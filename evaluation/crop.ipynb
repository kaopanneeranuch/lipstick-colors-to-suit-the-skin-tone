{
 "cells": [
  {
   "cell_type": "code",
   "execution_count": 15,
   "metadata": {},
   "outputs": [],
   "source": [
    "import os\n",
    "import cv2"
   ]
  },
  {
   "cell_type": "code",
   "execution_count": 16,
   "metadata": {},
   "outputs": [],
   "source": [
    "# Specify the folder path containing the photos\n",
    "folder_path = 'testDataset/pictures/'\n",
    "\n",
    "# Get the list of files in the folder\n",
    "file_list = os.listdir(folder_path)\n",
    "\n",
    "# Filter the list to include only image files\n",
    "image_files = [file for file in file_list if file.lower().endswith(('.jpg', '.jpeg', '.png', '.gif'))]\n",
    "\n",
    "# Generate the list of file paths\n",
    "images = [os.path.join(folder_path, file) for file in image_files]"
   ]
  },
  {
   "cell_type": "code",
   "execution_count": 17,
   "metadata": {},
   "outputs": [
    {
     "name": "stdout",
     "output_type": "stream",
     "text": [
      "Number of detected faces: 1\n",
      "face0.jpg is saved\n",
      "Number of detected faces: 1\n",
      "face1.jpg is saved\n",
      "Number of detected faces: 1\n",
      "face2.jpg is saved\n",
      "Number of detected faces: 1\n",
      "face3.jpg is saved\n",
      "Number of detected faces: 1\n",
      "face4.jpg is saved\n",
      "Number of detected faces: 0\n",
      "Number of detected faces: 1\n",
      "face5.jpg is saved\n",
      "Number of detected faces: 1\n",
      "face6.jpg is saved\n",
      "Number of detected faces: 1\n",
      "face7.jpg is saved\n",
      "Number of detected faces: 1\n",
      "face8.jpg is saved\n",
      "Number of detected faces: 2\n",
      "face9.jpg is saved\n",
      "face10.jpg is saved\n",
      "Number of detected faces: 1\n",
      "face11.jpg is saved\n",
      "Number of detected faces: 0\n",
      "Number of detected faces: 1\n",
      "face12.jpg is saved\n",
      "Number of detected faces: 1\n",
      "face13.jpg is saved\n",
      "Number of detected faces: 2\n",
      "face14.jpg is saved\n",
      "face15.jpg is saved\n",
      "Number of detected faces: 1\n",
      "face16.jpg is saved\n",
      "Number of detected faces: 1\n",
      "face17.jpg is saved\n",
      "Number of detected faces: 2\n",
      "face18.jpg is saved\n",
      "face19.jpg is saved\n",
      "Number of detected faces: 0\n",
      "Number of detected faces: 1\n",
      "face20.jpg is saved\n",
      "Number of detected faces: 1\n",
      "face21.jpg is saved\n",
      "Number of detected faces: 1\n",
      "face22.jpg is saved\n",
      "Number of detected faces: 1\n",
      "face23.jpg is saved\n",
      "Number of detected faces: 1\n",
      "face24.jpg is saved\n",
      "Number of detected faces: 1\n",
      "face25.jpg is saved\n",
      "Number of detected faces: 3\n",
      "face26.jpg is saved\n",
      "face27.jpg is saved\n",
      "face28.jpg is saved\n"
     ]
    }
   ],
   "source": [
    "num = 0\n",
    "\n",
    "for i in images:\n",
    "    # read the input image\n",
    "    img = cv2.imread(i)\n",
    "    # convert to grayscale of each frames\n",
    "    gray = cv2.cvtColor(img, cv2.COLOR_BGR2GRAY)\n",
    "\n",
    "    # read the haarcascade to detect the faces in an image\n",
    "    face_cascade = cv2.CascadeClassifier('haarcascades\\haarcascade_frontalface_alt.xml')\n",
    "\n",
    "    # detects faces in the input image\n",
    "    faces = face_cascade.detectMultiScale(gray, 1.1, 4)\n",
    "    print('Number of detected faces:', len(faces))\n",
    "\n",
    "    # loop over all detected faces\n",
    "    if len(faces) > 0:\n",
    "        for i, (x,y,w,h) in enumerate(faces):\n",
    "            \n",
    "            # To draw a rectangle in a face\n",
    "            cv2.rectangle(img,(x,y),(x+w,y+h),(0,255,255),2)\n",
    "            face = img[y:y+h, x:x+w]\n",
    "            face_resize = cv2.resize(face, (512,512))\n",
    "            # cv2.imshow(f\"Cropped Face {num}\", face)\n",
    "            cv2.imwrite(f'testDataset/dataset/face{num}.jpg', face_resize)\n",
    "            print(f\"face{num}.jpg is saved\")\n",
    "            num += 1\n",
    "\n",
    "    # display the image with detected faces\n",
    "    # cv2.imshow(\"image\", img)\n",
    "    # cv2.waitKey(0)\n",
    "    # cv2.destroyAllWindows()"
   ]
  }
 ],
 "metadata": {
  "kernelspec": {
   "display_name": "env",
   "language": "python",
   "name": "python3"
  },
  "language_info": {
   "codemirror_mode": {
    "name": "ipython",
    "version": 3
   },
   "file_extension": ".py",
   "mimetype": "text/x-python",
   "name": "python",
   "nbconvert_exporter": "python",
   "pygments_lexer": "ipython3",
   "version": "3.10.4"
  },
  "orig_nbformat": 4
 },
 "nbformat": 4,
 "nbformat_minor": 2
}
